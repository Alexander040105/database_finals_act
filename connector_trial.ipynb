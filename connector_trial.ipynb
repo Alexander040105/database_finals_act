{
 "cells": [
  {
   "cell_type": "code",
   "execution_count": 1,
   "metadata": {},
   "outputs": [],
   "source": [
    "import mysql.connector\n"
   ]
  },
  {
   "cell_type": "code",
   "execution_count": 2,
   "metadata": {},
   "outputs": [
    {
     "name": "stdout",
     "output_type": "stream",
     "text": [
      "('activity1',)\n",
      "('human_resources_db',)\n",
      "('information_schema',)\n",
      "('mysql',)\n",
      "('performance_schema',)\n",
      "('sakila',)\n",
      "('sys',)\n",
      "('world',)\n"
     ]
    }
   ],
   "source": [
    "#mysql connector code\n",
    "mysql_db = mysql.connector.connect(\n",
    "    host=\"localhost\",\n",
    "    user=\"root\",\n",
    "    passwd=\"Jade_040105_092004_Aki\" #change to your password chat\n",
    ")\n",
    "\n",
    "mysql_cursor = mysql_db.cursor()\n",
    "\n",
    "mysql_cursor.execute(\"SHOW DATABASES\")\n",
    "\n",
    "for databases in mysql_cursor:\n",
    "    print(databases)"
   ]
  },
  {
   "cell_type": "code",
   "execution_count": 5,
   "metadata": {},
   "outputs": [
    {
     "name": "stdout",
     "output_type": "stream",
     "text": [
      "Password is correct! 🔥\n"
     ]
    }
   ],
   "source": [
    "from werkzeug.security import generate_password_hash, check_password_hash\n",
    "\n",
    "# Storing password\n",
    "original_password = \"MySecret123\"\n",
    "hashed_password = generate_password_hash(original_password)\n",
    "\n",
    "# Later... user logs in\n",
    "login_password = \"MySecret123\"\n",
    "\n",
    "if check_password_hash(hashed_password, login_password):\n",
    "    print(\"Password is correct! 🔥\")\n",
    "else:\n",
    "    print(\"Password is wrong ❌\")\n"
   ]
  }
 ],
 "metadata": {
  "kernelspec": {
   "display_name": ".venv",
   "language": "python",
   "name": "python3"
  },
  "language_info": {
   "codemirror_mode": {
    "name": "ipython",
    "version": 3
   },
   "file_extension": ".py",
   "mimetype": "text/x-python",
   "name": "python",
   "nbconvert_exporter": "python",
   "pygments_lexer": "ipython3",
   "version": "3.13.2"
  }
 },
 "nbformat": 4,
 "nbformat_minor": 2
}
